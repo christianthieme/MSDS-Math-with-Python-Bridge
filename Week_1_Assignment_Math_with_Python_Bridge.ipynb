{
 "cells": [
  {
   "cell_type": "markdown",
   "metadata": {
    "colab_type": "text",
    "id": "y6R7dZUjas7H"
   },
   "source": [
    "#Week 1 Assignment - Math with Python Bridge\n",
    "## Christian Thieme \n",
    "## 12-18-2019"
   ]
  },
  {
   "cell_type": "markdown",
   "metadata": {
    "colab_type": "text",
    "id": "O5FK6Og0aiIZ"
   },
   "source": [
    "###Chapter 1.  Programming Challenge 1 page 22, Even-Odd Vending Machine"
   ]
  },
  {
   "cell_type": "code",
   "execution_count": 0,
   "metadata": {
    "colab": {
     "base_uri": "https://localhost:8080/",
     "height": 87
    },
    "colab_type": "code",
    "id": "jI9Wqt4YaLmv",
    "outputId": "0d582119-7f79-4537-eccf-e160b096c23b"
   },
   "outputs": [
    {
     "name": "stdout",
     "output_type": "stream",
     "text": [
      "Type and integer: 5\n",
      "5 is an odd number.\n",
      "[5, 7, 9, 11, 13, 15, 17, 19, 21, 23]\n"
     ]
    }
   ],
   "source": [
    "#Even-Odd vending maching \n",
    "\n",
    "def vending_machine(num):\n",
    "  counter = 1\n",
    "  curr_num = num\n",
    "  final_list = []\n",
    "  if num % 2 == 0: \n",
    "    print(\"{0} is an even number.\".format(num)) \n",
    "    final_list.append(curr_num)\n",
    "    while counter < 10: \n",
    "      curr_num += 1\n",
    "      if curr_num % 2 == 0:\n",
    "        final_list.append(curr_num)\n",
    "        counter += 1\n",
    "  else: \n",
    "    print(\"{0} is an odd number.\".format(num))\n",
    "    final_list.append(curr_num)\n",
    "    while counter < 10: \n",
    "      curr_num += 1\n",
    "      if curr_num % 2 != 0:\n",
    "        final_list.append(curr_num)\n",
    "        counter += 1\n",
    "  print(final_list)\n",
    "    \n",
    "if __name__ == '__main__':\n",
    "  while True:\n",
    "    num = input('Type and integer: ')\n",
    "    try: \n",
    "        int_num = int(num)\n",
    "        vending_machine(int_num) \n",
    "    except: \n",
    "      print(\"Please enter a valid integer - No decimals!\")\n",
    "      "
   ]
  },
  {
   "cell_type": "markdown",
   "metadata": {
    "colab_type": "text",
    "id": "F90S77xt8Pwi"
   },
   "source": [
    "###Chapter 2.  Programming Challenge 2 page 55, Exploring a Quadratic Function Visually"
   ]
  },
  {
   "cell_type": "code",
   "execution_count": 0,
   "metadata": {
    "colab": {
     "base_uri": "https://localhost:8080/",
     "height": 265
    },
    "colab_type": "code",
    "id": "YA83VLGt8HXu",
    "outputId": "ac4db2b8-f5b6-4130-9a05-78336ee9af9e"
   },
   "outputs": [
    {
     "data": {
      "image/png": "[encoded data removed]",
      "text/plain": [
       "<Figure size 432x288 with 1 Axes>"
      ]
     },
     "metadata": {
      "tags": []
     },
     "output_type": "display_data"
    }
   ],
   "source": [
    "import matplotlib.pyplot as plt\n",
    "\n",
    "# Quadratic function calculator\n",
    "\n",
    "def visualize_quadratic():\n",
    "  x_values = [-50,-40,-30,-10,0,10,20,30,40,50]\n",
    "  y_values = []\n",
    "  for x in x_values: \n",
    "    y = x**2 + 2*x + 1\n",
    "    y_values.append(y)\n",
    "  plt.plot(x_values, y_values)\n",
    "  plt.show()\n",
    "\n",
    "visualize_quadratic()\n"
   ]
  },
  {
   "cell_type": "markdown",
   "metadata": {
    "colab_type": "text",
    "id": "2kuJmEgCv7Wh"
   },
   "source": [
    "###Chapter 3.  Programming Challenge 2 page 89, Statistics Calculator"
   ]
  },
  {
   "cell_type": "code",
   "execution_count": 0,
   "metadata": {
    "colab": {
     "base_uri": "https://localhost:8080/",
     "height": 176,
     "resources": {
      "http://localhost:8080/nbextensions/google.colab/files.js": {
       "data": "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",
       "headers": [
        [
         "content-type",
         "application/javascript"
        ]
       ],
       "ok": true,
       "status": 200,
       "status_text": ""
      }
     }
    },
    "colab_type": "code",
    "id": "izUW4fHexBPf",
    "outputId": "f675a612-f72f-4212-9e9a-88314ba621f8"
   },
   "outputs": [
    {
     "data": {
      "text/html": [
       "\n",
       "     <input type=\"file\" id=\"files-b894b7ad-e751-420e-9c81-0c54098688c7\" name=\"files[]\" multiple disabled />\n",
       "     <output id=\"result-b894b7ad-e751-420e-9c81-0c54098688c7\">\n",
       "      Upload widget is only available when the cell has been executed in the\n",
       "      current browser session. Please rerun this cell to enable.\n",
       "      </output>\n",
       "      <script src=\"/nbextensions/google.colab/files.js\"></script> "
      ],
      "text/plain": [
       "<IPython.core.display.HTML object>"
      ]
     },
     "metadata": {
      "tags": []
     },
     "output_type": "display_data"
    },
    {
     "name": "stdout",
     "output_type": "stream",
     "text": [
      "Saving mydata.txt to mydata (1).txt\n",
      "The following list has been loaded: [100, 60, 70, 900, 100, 200, 500, 500, 503, 600, 1000, 1200]\n",
      "The mean of the list is: 477.75\n",
      "The median of the list is: 500.0\n",
      "The mode of the list is: 100\n",
      "The variance of the list is:  141047.35\n",
      "The standard deviation of the list is:  375.56\n"
     ]
    }
   ],
   "source": [
    "#bringing in loaded file and creating dataframe\n",
    "import pandas as pd\n",
    "from google.colab import files\n",
    "import io\n",
    "from collections import Counter\n",
    "\n",
    "#calculating the mean\n",
    "def calculate_mean(numbers):\n",
    "  s = sum(numbers)\n",
    "  N = len(numbers)\n",
    "  mean = s/N\n",
    "  return mean\n",
    "\n",
    "#calculating the median\n",
    "def calculate_median(numbers):\n",
    "  N = len(numbers)\n",
    "  numbers.sort()\n",
    "  if N % 2 == 0:\n",
    "    m1 = N/2\n",
    "    m2 = (N/2)+1\n",
    "    m1 = int(m1) - 1\n",
    "    m2 = int(m2) - 1\n",
    "    median = (numbers[m1] + numbers[m2])/2\n",
    "  else: \n",
    "    m = (N+1)/2\n",
    "    m = int(m) - 1\n",
    "    median =  numbers[m]\n",
    "  return median\n",
    "\n",
    "#calculate mode\n",
    "def calculate_mode(numbers):\n",
    "  c = Counter(numbers)\n",
    "  mode = c.most_common(1)\n",
    "  return mode[0][0]\n",
    "\n",
    "def find_differences(numbers):\n",
    "  mean = calculate_mean(numbers)\n",
    "  diff = []\n",
    "  for num in numbers: \n",
    "    diff.append(num-mean)\n",
    "  return diff\n",
    "\n",
    "def calculate_variance(numbers):\n",
    "  diff = find_differences(numbers)\n",
    "  squared_diff = []\n",
    "  for d in diff: \n",
    "    squared_diff.append(d**2)\n",
    "  sum_squared_diff = sum(squared_diff)\n",
    "  variance = sum_squared_diff/len(numbers)\n",
    "  return variance\n",
    "\n",
    "def statistics_calculator(numbers):\n",
    "  print(\"The following list has been loaded: {0}\".format(data_list))\n",
    "  print(\"The mean of the list is: {0}\".format(calculate_mean(numbers)))\n",
    "  print(\"The median of the list is: {0}\".format(calculate_median(numbers)))\n",
    "  print(\"The mode of the list is: {0}\".format(calculate_mode(numbers)))\n",
    "  print(\"The variance of the list is: {0: .2f}\".format(calculate_variance(numbers)))\n",
    "  print(\"The standard deviation of the list is: {0: .2f}\".format(calculate_variance(numbers)**0.5))\n",
    "\n",
    "if __name__=='__main__':\n",
    "  uploaded = files.upload()\n",
    "  data = pd.read_csv(io.BytesIO(uploaded['mydata.txt']), sep=\" \", header = None )\n",
    "  data.rename(columns= {0:\"values\"}, inplace = True)\n",
    "  data_list = data[\"values\"].tolist()\n",
    "  statistics_calculator(data_list)\n"
   ]
  },
  {
   "cell_type": "markdown",
   "metadata": {
    "colab_type": "text",
    "id": "i-I8RX0NocfR"
   },
   "source": [
    "###Chapter 4.  Programming Challenge 4 page 117, Solving Single-Variable Inequalities"
   ]
  },
  {
   "cell_type": "code",
   "execution_count": 0,
   "metadata": {
    "colab": {
     "base_uri": "https://localhost:8080/",
     "height": 51
    },
    "colab_type": "code",
    "id": "jEAcgF0izNDM",
    "outputId": "96491541-f145-467e-9779-fdcf8d063b2e"
   },
   "outputs": [
    {
     "name": "stdout",
     "output_type": "stream",
     "text": [
      "Enter an inequality to be solved:   x+3>0\n",
      "[Interval.open(-3, oo)]\n"
     ]
    }
   ],
   "source": [
    "# Create a function, isolve(), that will take any inequality and coose the appropriate functions to solve it and return the solutions\n",
    "from sympy import sympify, Poly, solve_rational_inequalities, solve_poly_inequality, Symbol, solve, solve_univariate_inequality, sin, SympifyError\n",
    "\n",
    "def isolve(inequality): \n",
    "  x = Symbol('x')\n",
    "  inequal_obj = sympify(inequality)\n",
    "  left_side = inequal_obj.lhs\n",
    "  #test for polynomial\n",
    "  if left_side.is_polynomial(): \n",
    "    p = Poly(left_side, x)  \n",
    "    rel = inequal_obj.rel_op\n",
    "    return solve_poly_inequality(p,rel)\n",
    "  #test for relational\n",
    "  elif left_side.is_rational_function(): \n",
    "    numer, denom = left_side.as_numer_denom()\n",
    "    p1 = Poly(numer)\n",
    "    p2 = Poly(denom)\n",
    "    rel = inequal_obj.rel_op\n",
    "    return solve_rational_inequalities([[((p1,p2), rel)]])\n",
    "  #Other  \n",
    "  else:\n",
    "    return solve_univariate_inequality(inequal_obj, x, relational = False)\n",
    "\n",
    "if __name__ == \"__main__\":\n",
    "  inequal = input(\"Enter an inequality to be solved:   \")\n",
    "  try: \n",
    "    print(isolve(inequal))\n",
    "  except (AttributeError, SympifyError, SyntaxError): \n",
    "    print(\"Please enter a valid inequality\")\n",
    " "
   ]
  },
  {
   "cell_type": "markdown",
   "metadata": {
    "colab_type": "text",
    "id": "utbFQ_55-kOd"
   },
   "source": [
    "###Chapter 5.  Programming Challenge 2 page 143, Law of Large Numbers"
   ]
  },
  {
   "cell_type": "code",
   "execution_count": 0,
   "metadata": {
    "colab": {
     "base_uri": "https://localhost:8080/",
     "height": 136
    },
    "colab_type": "code",
    "id": "Fvh5r5jo7QYH",
    "outputId": "b7cf1aca-c200-42bb-c9b3-b6c91e74c024"
   },
   "outputs": [
    {
     "name": "stdout",
     "output_type": "stream",
     "text": [
      "The expected value: 3.5\n",
      "The average is 3.4 for 100 trials.\n",
      "The average is 3.506 for 1000 trials.\n",
      "The average is 3.5164 for 10,000 trials.\n",
      "The average is 3.49346 for 100,000 trials.\n",
      "The average is 3.501762 for 500,000 trials.\n",
      "Based on the above calculations, we can safely verify that the Law of Large Numbers is correct.\n"
     ]
    }
   ],
   "source": [
    "#verifying the law of large numbers: that the greater number of trials you run, the average should move closer to the expected value (E)\n",
    "import random\n",
    "\n",
    "e = 1*(1/6) + 2*(1/6)+ 3*(1/6)+ 4*(1/6)+ 5*(1/6)+ 6*(1/6)\n",
    "\n",
    "def avg_for_x_trials(num):\n",
    "  list_of_vals = []\n",
    "  for i in range(1, num + 1):\n",
    "    rand_num = random.randint(1,6)\n",
    "    list_of_vals.append(rand_num)\n",
    "  return sum(list_of_vals)/len(list_of_vals)\n",
    "\n",
    "print(\"The expected value: {0}\".format(e))\n",
    "print(\"The average is {0} for 100 trials.\".format(avg_for_x_trials(100)))\n",
    "print(\"The average is {0} for 1000 trials.\".format(avg_for_x_trials(1000)))\n",
    "print(\"The average is {0} for 10,000 trials.\".format(avg_for_x_trials(10000)))\n",
    "print(\"The average is {0} for 100,000 trials.\".format(avg_for_x_trials(100000)))\n",
    "print(\"The average is {0} for 500,000 trials.\".format(avg_for_x_trials(500000)))\n",
    "print(\"Based on the above calculations, we can safely verify that the Law of Large Numbers is correct.\")\n"
   ]
  },
  {
   "cell_type": "markdown",
   "metadata": {
    "colab_type": "text",
    "id": "sZuAw_AqtT2b"
   },
   "source": [
    "###Chapter 7.  Programming Challenge 2 page 205, Implement the Gradient Descent"
   ]
  },
  {
   "cell_type": "code",
   "execution_count": 61,
   "metadata": {
    "colab": {
     "base_uri": "https://localhost:8080/",
     "height": 350
    },
    "colab_type": "code",
    "id": "pNyaUTA5RmeK",
    "outputId": "179f1052-20cf-493a-a97c-94bc42c9dbf4"
   },
   "outputs": [
    {
     "name": "stdout",
     "output_type": "stream",
     "text": [
      "Enter a function in one variable:   25*25*sin(2*theta)/9.8\n",
      "Enter the variable to differentiate with respect to:   theta\n",
      "Enter the initial value of the variable:  0.1\n",
      "theta: -0.785360047426147\n",
      "Minimum value: -63.7755100187720\n"
     ]
    },
    {
     "data": {
      "image/png": "[encoded data removed]",
      "text/plain": [
       "<Figure size 432x288 with 1 Axes>"
      ]
     },
     "metadata": {
      "tags": []
     },
     "output_type": "display_data"
    }
   ],
   "source": [
    "#gradient descent to find the minimum value of a single-variable function\n",
    "\n",
    "from sympy import Derivative, Symbol, sympify, solve\n",
    "import matplotlib.pyplot as plt\n",
    "import numpy as np\n",
    "\n",
    "def gradient_descent(x0, f1x, x):\n",
    "  if not solve(f1x):\n",
    "    print(\"Cannot continue, solution for {0}=0 does not exist\".format(f1x))\n",
    "    return None\n",
    "  epsilon = 1e-6 \n",
    "  step_size = 1e-4\n",
    "  x_old = x0  #inital starting point\n",
    "  x_new = x_old - step_size*f1x.subs({x:x_old}).evalf() # initial starting point - step*slope of tangent\n",
    "  stored_vals = [] #empty list to store values as we move down the curve\n",
    "  while abs(x_old - x_new) > epsilon: #once slope of tangent nears zero x_old=x_new will get very, very close to zero and will be less than epsilon\n",
    "    stored_vals.append(x_old)\n",
    "    x_old = x_new\n",
    "    x_new = x_old - step_size*f1x.subs({x:x_old}).evalf() #point - step * current slop of tangent ## we are waiting for the slope of the tangent to get near to zero\n",
    "  return x_new, stored_vals\n",
    "\n",
    "if __name__=='__main__':\n",
    "  #user inputs\n",
    "  f = input(\"Enter a function in one variable:   \") #entering a function\n",
    "  var = input(\"Enter the variable to differentiate with respect to:   \")\n",
    "  var0 = float(input(\"Enter the initial value of the variable:  \"))\n",
    "  try:\n",
    "    f= sympify(f)\n",
    "  except SympifyError:\n",
    "    print(\"Invalid function entered\")\n",
    "  else: \n",
    "    var = Symbol(var)\n",
    "    d = Derivative(f, var).doit() #finding the derivative of the function\n",
    "    var_min, stored_vals = gradient_descent(var0, d, var) #starting point, derivative , and variable to differentiate by\n",
    "    print(\"{0}: {1}\".format(var.name, var_min)) #x-value of min\n",
    "    print(\"Minimum value: {0}\".format(f.subs({var:var_min}))) #y-value of the min\n",
    "    #Plotting prep\n",
    "    funtcion_vals = [x for x in np.arange(-1,1,0.1)] #to plot original function\n",
    "    solved_vals = [f.subs({var:x}) for x in function_vals] #putting each value of the function_vals into the function to graph\n",
    "    plt.plot(function_vals, solved_vals) #plotting - blue line\n",
    "    tried_vals = [f.subs({var:x})for x in stored_vals] #taking each tried value and entering to evaluate against original function\n",
    "    plt.plot(stored_vals, tried_vals, 'r:', linewidth = 3) #red dotted line\n",
    "\n",
    "    plt.show()\n"
   ]
  },
  {
   "cell_type": "code",
   "execution_count": 0,
   "metadata": {
    "colab": {},
    "colab_type": "code",
    "id": "3xtdzkrsGami"
   },
   "outputs": [],
   "source": []
  }
 ],
 "metadata": {
  "colab": {
   "collapsed_sections": [],
   "name": "Week 1 Assignment - Math with Python Bridge.ipynb",
   "provenance": [],
   "toc_visible": true
  },
  "kernelspec": {
   "display_name": "Python 3",
   "language": "python",
   "name": "python3"
  },
  "language_info": {
   "codemirror_mode": {
    "name": "ipython",
    "version": 3
   },
   "file_extension": ".py",
   "mimetype": "text/x-python",
   "name": "python",
   "nbconvert_exporter": "python",
   "pygments_lexer": "ipython3",
   "version": "3.7.4"
  }
 },
 "nbformat": 4,
 "nbformat_minor": 1
}
