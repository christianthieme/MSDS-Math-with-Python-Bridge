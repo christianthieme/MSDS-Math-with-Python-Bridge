{
 "cells": [
  {
   "cell_type": "markdown",
   "metadata": {
    "colab_type": "text",
    "id": "TrxdTdoRB-1t"
   },
   "source": [
    "#Week 2 Assignment - Math with Python Bridge\n",
    "## Christian Thieme \n",
    "## 1-10-2020\n"
   ]
  },
  {
   "cell_type": "markdown",
   "metadata": {
    "colab_type": "text",
    "id": "QnnLuStACm4J"
   },
   "source": [
    "### 1.  Write a Python program to compute the eigenvalues and right eigenvectors of a given square array:\n"
   ]
  },
  {
   "cell_type": "code",
   "execution_count": 1,
   "metadata": {
    "colab": {
     "base_uri": "https://localhost:8080/",
     "height": 323
    },
    "colab_type": "code",
    "id": "TM8F5q_c2027",
    "outputId": "3f43851b-df30-4eb9-ec11-e7089a3defa6"
   },
   "outputs": [
    {
     "name": "stdout",
     "output_type": "stream",
     "text": [
      "The following program will compute the eigenvalues and right eigenvectors of a square matrix.\n",
      "How many rows are in your matrix?:3\n",
      "How many columns are in your matrix?:3\n",
      "On a single line, enter all values from the matrix separated by a space:  \n",
      "1 2 3 4 5 6 7 8 9\n",
      "----------------------------------------------------------\n",
      "You have entered the following matrix: \n",
      "[[1 2 3]\n",
      " [4 5 6]\n",
      " [7 8 9]]\n",
      "----------------------------------------------------------\n",
      "The eigenvalue/s for the above matrix are:\n",
      " [ 1.61168440e+01 -1.11684397e+00 -1.30367773e-15]\n",
      "----------------------------------------------------------\n",
      "The right eigenvector/s normalized to unit length are:\n",
      " [[-0.23197069 -0.78583024  0.40824829]\n",
      " [-0.52532209 -0.08675134 -0.81649658]\n",
      " [-0.8186735   0.61232756  0.40824829]]\n"
     ]
    }
   ],
   "source": [
    "import numpy as np \n",
    "from numpy import array\n",
    "from numpy import linalg \n",
    "\n",
    "print(\"The following program will compute the eigenvalues and right eigenvectors of a square matrix.\")  \n",
    "R = int(input(\"How many rows are in your matrix?:\")) \n",
    "C = int(input(\"How many columns are in your matrix?:\")) \n",
    "\n",
    "#Check if the matrix is square - if not square - error and exit the program\n",
    "if R != C: \n",
    "  print(\"Error: This program only works for square matrices, please re-run the program and enter a square matrix\")\n",
    "  exit  \n",
    "else:\n",
    "  # Input to enter a matrix must come in the form of 1 2 3 4 5 6 7 8 9 and then will be formatted to matrix using reshape below   \n",
    "  print(\"On a single line, enter all values from the matrix separated by a space:  \") \n",
    "\n",
    "  #takes user input and splits and converts to int, then stores in list\n",
    "  entries = list(map(int, input().split())) \n",
    "    \n",
    "  #converting list to matrix from list\n",
    "  matrix = np.array(entries).reshape(R, C) \n",
    "  print(\"----------------------------------------------------------\") \n",
    "  print(\"You have entered the following matrix: \")\n",
    "  print(matrix)\n",
    "  print(\"----------------------------------------------------------\")\n",
    "  #calculating eigenvalues and right eigenvectors\n",
    "  values, vectors= linalg.eig(matrix)\n",
    "  print(\"The eigenvalue/s for the above matrix are:\\n {0}\".format(values))\n",
    "  print(\"----------------------------------------------------------\")\n",
    "  print(\"The right eigenvector/s normalized to unit length are:\\n {0}\".format(vectors))\n",
    "  "
   ]
  },
  {
   "cell_type": "markdown",
   "metadata": {
    "colab_type": "text",
    "id": "7nxtOd69B9Om"
   },
   "source": [
    "### 2.  Write a Python program to compute the factor of a given array by Singular Value Decomposition:\n"
   ]
  },
  {
   "cell_type": "code",
   "execution_count": 2,
   "metadata": {
    "colab": {
     "base_uri": "https://localhost:8080/",
     "height": 374
    },
    "colab_type": "code",
    "id": "yRpiwv_1CIAE",
    "outputId": "ae3a9558-bb41-436f-db92-2ee60c61af78"
   },
   "outputs": [
    {
     "name": "stdout",
     "output_type": "stream",
     "text": [
      "The following program will compute the Singular Value Decomposition of any matrix.\n",
      "How many rows are in your matrix?:3\n",
      "How many columns are in your matrix?:2\n",
      "On a single line, enter all values from the matrix separated by a space:  \n",
      "1 2 3 4 5 6\n",
      "----------------------------------------------------------\n",
      "You have entered the following matrix: \n",
      "[[1 2]\n",
      " [3 4]\n",
      " [5 6]]\n",
      "----------------------------------------------------------\n",
      "The factor of the above entered matrix is: \n",
      "----------------------------------------------------------\n",
      "U = [[-0.2298477   0.88346102  0.40824829]\n",
      " [-0.52474482  0.24078249 -0.81649658]\n",
      " [-0.81964194 -0.40189603  0.40824829]]\n",
      "----------------------------------------------------------\n",
      "s = [9.52551809 0.51430058]\n",
      "----------------------------------------------------------\n",
      "V = [[-0.61962948 -0.78489445]\n",
      " [-0.78489445  0.61962948]]\n"
     ]
    }
   ],
   "source": [
    "print(\"The following program will compute the Singular Value Decomposition of any matrix.\") \n",
    "# Have to get the rows and columns of the matrix in order to reshape the input from the user.  \n",
    "R = int(input(\"How many rows are in your matrix?:\")) \n",
    "C = int(input(\"How many columns are in your matrix?:\")) \n",
    "\n",
    "print(\"On a single line, enter all values from the matrix separated by a space:  \") \n",
    "\n",
    "#takes user input and splits and converts to int, then stores in list\n",
    "entries = list(map(int, input().split())) \n",
    "  \n",
    "#converting list to matrix \n",
    "matrix = np.array(entries).reshape(R, C) \n",
    "print(\"----------------------------------------------------------\") \n",
    "print(\"You have entered the following matrix: \")\n",
    "print(matrix)\n",
    "print(\"----------------------------------------------------------\")\n",
    "#calculation of SVD - broken into three outputs: U, s, V\n",
    "U, s, V = linalg.svd(matrix)\n",
    "print(\"The factor of the above entered matrix is: \")\n",
    "print(\"----------------------------------------------------------\")\n",
    "print(\"U = {0}\".format(U))\n",
    "print(\"----------------------------------------------------------\")\n",
    "print(\"s = {0}\".format(s))\n",
    "print(\"----------------------------------------------------------\")\n",
    "print(\"V = {0}\".format(V))\n",
    "  "
   ]
  },
  {
   "cell_type": "markdown",
   "metadata": {
    "colab_type": "text",
    "id": "tUnpNwaSHlm1"
   },
   "source": [
    "### 3.  Write a Python program to compute the determinant of an array.\n"
   ]
  },
  {
   "cell_type": "markdown",
   "metadata": {
    "colab_type": "text",
    "id": "Rc9dyF31Nu2e"
   },
   "source": [
    "###### Below is a program I wrote to calculate the determinant of a square matrix WITHOUT utilizing the built in linalg.det(A) function. I utilized the fact that you can find the determinant based on the product of the diagonal values of a upper triangle matrix. The tricky part was figuring out how to factor in the negation changes when there was a permutation of the rows, but I was able to figure that out by counting the changes to the permuation matrix. "
   ]
  },
  {
   "cell_type": "code",
   "execution_count": 3,
   "metadata": {
    "colab": {
     "base_uri": "https://localhost:8080/",
     "height": 289
    },
    "colab_type": "code",
    "id": "oGxaA16GHixt",
    "outputId": "b1195c80-2ce7-40d7-d248-913fbc42fe2c"
   },
   "outputs": [
    {
     "name": "stdout",
     "output_type": "stream",
     "text": [
      "The following program will compute the determinant of a square matrix.\n",
      "How many rows are in your matrix?:4\n",
      "How many columns are in your matrix?:4\n",
      "On a single line, enter all values from the matrix separated by space:  \n",
      "-2 3 1 4 1 1 7 2 0 0 -1 2 -3 2 1 1\n",
      "----------------------------------------------------------\n",
      "You have entered the following matrix: \n",
      "[[-2  3  1  4]\n",
      " [ 1  1  7  2]\n",
      " [ 0  0 -1  2]\n",
      " [-3  2  1  1]]\n",
      "----------------------------------------------------------\n",
      "The diagonal values of the above Upper Trianle matrix are:\n",
      " [-3.          1.66666667  7.          1.85714286]\n",
      "----------------------------------------------------------\n",
      "The determinant of the matrix is: 65.0\n"
     ]
    }
   ],
   "source": [
    "#The below is a program not utilizing the det built in funtionality in scipy\n",
    "import scipy.linalg as la\n",
    "\n",
    "print(\"The following program will compute the determinant of a square matrix.\")  \n",
    "R = int(input(\"How many rows are in your matrix?:\")) \n",
    "C = int(input(\"How many columns are in your matrix?:\")) \n",
    "\n",
    "#this program only works for square matrices, so the below code checks to make sure columns and rows match\n",
    "if R != C: \n",
    "  print(\"Error: This program only works for square matrices, please re-run the program and enter a square matrix\")\n",
    "  exit  \n",
    "else:\n",
    "  print(\"On a single line, enter all values from the matrix separated by space:  \") \n",
    "\n",
    "  #takes user input and splits and converts to int, then stores in list\n",
    "  entries = list(map(int, input().split())) \n",
    "    \n",
    "  #converting list to matrix \n",
    "  matrix = np.array(entries).reshape(R, C) \n",
    "  print(\"----------------------------------------------------------\") \n",
    "  print(\"You have entered the following matrix: \")\n",
    "  print(matrix)\n",
    "  print(\"----------------------------------------------------------\")\n",
    "  #the below line calculates the upper triangle matrix\n",
    "  u, piv = la.lu_factor(matrix)\n",
    "  # I get a list of the diagonal values from the right upper matrix with the below\n",
    "  diagonal = np.diag(u)\n",
    "  print(\"The diagonal values of the above Upper Trianle matrix are:\\n {0}\".format(diagonal))\n",
    "  print(\"----------------------------------------------------------\")\n",
    "  #the determinant is the product of the values of the diagonal list from above, the below calculates that product.  \n",
    "  determinant = np.prod(diagonal)\n",
    "  #The sign changes on the determinant if there were permutations to the matrix during the conversion to upper triangular form. If rows are swapped, it negates the determinant. However, if a two rows are swapped\n",
    "  #the negation negates itself. The following code counts the permutations and correctly determines the sign (+/-) for the determinant based on the indices of the permutation matrix. \n",
    "  if determinant == 0:\n",
    "    print(\"The determinant for this matrix is: 0. This means that the matrix is not invertible and all the columns are not linearly independent.\")\n",
    "  else:\n",
    "    count = 0\n",
    "    for i in range(len(piv)):\n",
    "      if i != piv[i]:\n",
    "        count +=1\n",
    "      else: \n",
    "        next\n",
    "#Final calculation with correct sign for determinant.   \n",
    "  print(\"The determinant of the matrix is: {0}\".format(round(determinant*(-1)**count), 0))\n",
    "    \n"
   ]
  }
 ],
 "metadata": {
  "colab": {
   "collapsed_sections": [],
   "name": "Week_2_Assignment_Math_with_Python_Bridge .ipynb",
   "provenance": []
  },
  "kernelspec": {
   "display_name": "Python 3",
   "language": "python",
   "name": "python3"
  },
  "language_info": {
   "codemirror_mode": {
    "name": "ipython",
    "version": 3
   },
   "file_extension": ".py",
   "mimetype": "text/x-python",
   "name": "python",
   "nbconvert_exporter": "python",
   "pygments_lexer": "ipython3",
   "version": "3.7.4"
  }
 },
 "nbformat": 4,
 "nbformat_minor": 1
}
