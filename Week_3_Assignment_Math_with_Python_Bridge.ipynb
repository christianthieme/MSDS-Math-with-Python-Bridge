{
 "cells": [
  {
   "cell_type": "markdown",
   "metadata": {
    "colab_type": "text",
    "id": "FMVt1x_QCU4_"
   },
   "source": [
    "#Week 3 Assignment - Math with Python Bridge\n",
    "## Christian Thieme \n",
    "## 1-13-2020"
   ]
  },
  {
   "cell_type": "markdown",
   "metadata": {
    "colab_type": "text",
    "id": "xfQ3RqxjCZ31"
   },
   "source": [
    "### Question 1: The weights of steers in a herd are distributed normally.  The variance is 40,000 and the mean steer weight is 1,300 lbs.  Find the probability that the weight of a randomly selected steer is greater than 979 lbs. (Round your answer to 4 decimal places)"
   ]
  },
  {
   "cell_type": "code",
   "execution_count": 0,
   "metadata": {
    "colab": {
     "base_uri": "https://localhost:8080/",
     "height": 34
    },
    "colab_type": "code",
    "id": "PPvjhtU9CHgF",
    "outputId": "70521917-b668-4d47-af3f-4954290dc427"
   },
   "outputs": [
    {
     "name": "stdout",
     "output_type": "stream",
     "text": [
      "The probability that the steer's weight is greater than 979 lbs is 0.9458 or 94.58%\n"
     ]
    }
   ],
   "source": [
    "import numpy as np\n",
    "import scipy.stats as stat\n",
    "\n",
    "#mean steer weight = m\n",
    "#variance of steer weight = v\n",
    "# randomly selected steer = x\n",
    "m = 1300\n",
    "v = 40000\n",
    "x = 979\n",
    "std_dev = np.sqrt(v) #200 lbs\n",
    "\n",
    "# we need to find the z-score in order to find the probability\n",
    "# the z-score tells us about the difference from the mean in terms of standard deviations\n",
    "z = ((x-m)/std_dev)\n",
    "\n",
    "#in order to find the probability, we need to get the probability associated with the z-score\n",
    "#to do this, we need to import the stats module sfrom scipy and utilize the cumulative distribution function\n",
    "prob = stat.norm.cdf(z)\n",
    "\n",
    "#Becuase we are asking what the probability is of the steer being greater than (>) 979\n",
    "# we need to subtract the probability from 1 \n",
    "final_prob = round((1- prob),4)\n",
    "\n",
    "#printing final probability that the steer's weight is greater than 979\n",
    "print(\"The probability that the steer's weight is greater than 979 lbs is {0} or {0:.2%}\".format(final_prob, final_prob))\n"
   ]
  },
  {
   "cell_type": "markdown",
   "metadata": {
    "colab_type": "text",
    "id": "At35B9PnNBd6"
   },
   "source": [
    "### Question 2: SVGA monitors manufactured by TSI Electronics have life spans that have a normal distribution with a variance of 1,960,000 and a mean life span of 11,000 hours.  If a SVGA monitor is selected at random, find the probability that the life span of the monitor will be more than 8,340 hours. (Round your answer to 4 decimal places)"
   ]
  },
  {
   "cell_type": "code",
   "execution_count": 0,
   "metadata": {
    "colab": {
     "base_uri": "https://localhost:8080/",
     "height": 34
    },
    "colab_type": "code",
    "id": "-VrgAjs2ND_L",
    "outputId": "25427a28-c7b1-4f6d-c4d0-8653b7731868"
   },
   "outputs": [
    {
     "name": "stdout",
     "output_type": "stream",
     "text": [
      "The probability that the randomly selected monitor's lifespan is greater than 8,340 hours is 0.9713 or 97.13%\n"
     ]
    }
   ],
   "source": [
    "#mean life span = m\n",
    "#variance of life span = v\n",
    "# randomly selected monitor lifespan = x\n",
    "m = 11000\n",
    "v = 1960000\n",
    "x = 8340\n",
    "std_dev = np.sqrt(v) \n",
    "\n",
    "# we need to find the z-score in order to find the probability\n",
    "# the z-score tells us about the difference from the mean in terms of standard deviations\n",
    "z = ((x-m)/std_dev)\n",
    "\n",
    "#in order to find the probability, we need to get the probability associated with the z-score\n",
    "prob = stat.norm.cdf(z)\n",
    "\n",
    "#Becuase we are asking what the probability is that the randomly selected monitor has a life span greater than (>) 8,340 hours\n",
    "# we need to subtract the probability from 1 \n",
    "final_prob = round((1- prob),4)\n",
    "\n",
    "#printing final probability that the monitor's lifespan is greater than 8,340 hours\n",
    "print(\"The probability that the randomly selected monitor's lifespan is greater than 8,340 hours is {0} or {0:.2%}\".format(final_prob, final_prob))"
   ]
  },
  {
   "cell_type": "markdown",
   "metadata": {
    "colab_type": "text",
    "id": "_840wBY0QD_K"
   },
   "source": [
    "###Question 3: Suppose the mean income of firms in the industry for a year is 80 million dollars with a standard deviation of 3 million dollars.  If incomes for the industry are distributed normally, what is the probability that a randomly selected firm will earn between 83 and 85 million dollars? (Round your answer to 4 decimal places)"
   ]
  },
  {
   "cell_type": "code",
   "execution_count": 0,
   "metadata": {
    "colab": {
     "base_uri": "https://localhost:8080/",
     "height": 34
    },
    "colab_type": "code",
    "id": "90ydbTkmQKBc",
    "outputId": "1031d59f-3117-458f-9261-eeaad95e567d"
   },
   "outputs": [
    {
     "name": "stdout",
     "output_type": "stream",
     "text": [
      "The probability that the randomly selected firm's income will be between $83M and $85M is 0.1109 or 11.09%\n"
     ]
    }
   ],
   "source": [
    "#mean income = m\n",
    "# randomly selected firm's income = x\n",
    "m = 80000000\n",
    "x1 = 83000000\n",
    "x2 = 85000000\n",
    "std_dev = 3000000\n",
    "\n",
    "# we need to find the z-scores for both x1 and x2 in order to find the probability\n",
    "# the z-score tells us about the difference from the mean in terms of standard deviations\n",
    "z1 = ((x1-m)/std_dev)\n",
    "z2 = ((x2-m)/std_dev)\n",
    "\n",
    "#in order to find the probability, we need to get the probability associated with the z-scores\n",
    "prob1 = stat.norm.cdf(z1)\n",
    "prob2 = stat.norm.cdf(z2)\n",
    "\n",
    "#Becuase we are asking what the probability is of the income being between x1 and x2, we need to subtract the \n",
    "# probability of x2 from x1 \n",
    "final_prob = round((prob2 - prob1),4)\n",
    "\n",
    "#printing final probability that firm's income will be between $83M and $85M\n",
    "print(\"The probability that the randomly selected firm's income will be between $83M and $85M is {0} or {0:.2%}\".format(final_prob, final_prob))"
   ]
  },
  {
   "cell_type": "markdown",
   "metadata": {
    "colab_type": "text",
    "id": "WFb6V-qASiBt"
   },
   "source": [
    "### Question 4: Suppose GRE Verbal scores are normally distributed with a mean of 456 and a standard deviation of 123.  A university plans to offer tutoring jobs to students whose scores are in the top 14%.  What is the minimum score required for the job offer?  Round your answer to the nearest whole number, if necessary."
   ]
  },
  {
   "cell_type": "code",
   "execution_count": 0,
   "metadata": {
    "colab": {
     "base_uri": "https://localhost:8080/",
     "height": 34
    },
    "colab_type": "code",
    "id": "DslFxgmkSl6b",
    "outputId": "5a2cdeec-4ab8-4fd4-feb6-74cf83ef27f0"
   },
   "outputs": [
    {
     "name": "stdout",
     "output_type": "stream",
     "text": [
      "The minimum score on the GRE required for the job offer is: 589\n"
     ]
    }
   ],
   "source": [
    "m = 456 #mean\n",
    "std_dev = 123 #std devation\n",
    "top = 0.14 #top 14%\n",
    "\n",
    "#calculation of z-score\n",
    "z = stat.norm.ppf(1-top)\n",
    "\n",
    "#since we have the z-score, in this case we are solving for x\n",
    "#to do that we can do the following: \n",
    "x = z * std_dev + m\n",
    "\n",
    "#printing solution\n",
    "print(\"The minimum score on the GRE required for the job offer is: {0:.0f}\".format(x))\n"
   ]
  },
  {
   "cell_type": "markdown",
   "metadata": {
    "colab_type": "text",
    "id": "kGDL8LbbWi_w"
   },
   "source": [
    "### Question 5: The lengths of nails produced in a factory are normally distributed with a mean of 6.13 centimeters and a standard deviation of 0.06 centimeters.  Find the two lengths that separate the top 7% and the bottom 7%.  These lengths could serve as limits used to identify which nails should be rejected.  Round your answer to the nearest hundredth, if necessary."
   ]
  },
  {
   "cell_type": "code",
   "execution_count": 0,
   "metadata": {
    "colab": {
     "base_uri": "https://localhost:8080/",
     "height": 34
    },
    "colab_type": "code",
    "id": "fln0wiH8VfeI",
    "outputId": "a37ffede-51b1-462b-ffe4-e372a19879c5"
   },
   "outputs": [
    {
     "name": "stdout",
     "output_type": "stream",
     "text": [
      "The length that seperates the top 7% and is the upper acceptable limit is: 6.22cm and the length that seperates the bottom 7% and is the lower acceptable limit is 6.04cm\n"
     ]
    }
   ],
   "source": [
    "m = 6.13 #mean\n",
    "std_dev = 0.06 #std devation\n",
    "bottom = 0.07\n",
    "top = 0.07 \n",
    "#calculation of z-scores\n",
    "z_top = stat.norm.ppf(1-top)\n",
    "z_bottom = stat.norm.ppf(bottom)\n",
    "\n",
    "#since we have the z-scores, in this case we are solving for the two x values\n",
    "#to do that we can do the following: \n",
    "x1 = z_top * std_dev + m\n",
    "x2 = z_bottom * std_dev + m\n",
    "\n",
    "\n",
    "#printing solution\n",
    "print(\"The length that seperates the top 7% and is the upper acceptable limit is: {0:.2f}cm and the length that seperates the bottom 7% and is the lower acceptable limit is {1:.2f}cm\".format(x1,x2))\n"
   ]
  },
  {
   "cell_type": "markdown",
   "metadata": {
    "colab_type": "text",
    "id": "ztW7fgonXzsP"
   },
   "source": [
    "### Question 6: An English professor assigns letter grades on a test according to the following scheme:\n",
    "* A:  Top 13% of scores\n",
    "* B:  Scores below the top 13% and above the bottom 55%\n",
    "* C:  Scores below the top 45% and above the bottom 20%\n",
    "* D:  Scores below the top 80% and above the bottom 9%\n",
    "* F:  Bottom 9% of scores\n",
    "\n",
    "Scores on the test are normally distributed with a mean of 78.8 and a standard deviation of 9.8.  Find the numerical limits for a C grade.  Round your answers to the nearest whole number, if necessary.\n"
   ]
  },
  {
   "cell_type": "code",
   "execution_count": 0,
   "metadata": {
    "colab": {
     "base_uri": "https://localhost:8080/",
     "height": 34
    },
    "colab_type": "code",
    "id": "C-ZG94fnYLU_",
    "outputId": "96f8b7e7-ce8f-4ce9-e28a-fcaa88b0ba02"
   },
   "outputs": [
    {
     "name": "stdout",
     "output_type": "stream",
     "text": [
      "The upper numerical limit for a C is: 80% and the lower numerical limit for a C is 71%\n"
     ]
    }
   ],
   "source": [
    "m = 78.8 #mean\n",
    "std_dev = 9.8 #std devation\n",
    "bottom = 0.20\n",
    "top = 0.45\n",
    "\n",
    "#calculation of z-scores\n",
    "z_top = stat.norm.ppf(1-top)\n",
    "z_bottom = stat.norm.ppf(bottom)\n",
    "\n",
    "#since we have the z-scores, in this case we are solving for the two x values\n",
    "#to do that we can do the following: \n",
    "x1 = z_top * std_dev + m\n",
    "x2 = z_bottom * std_dev + m\n",
    "\n",
    "\n",
    "#printing solution\n",
    "print(\"The upper numerical limit for a C is: {0:.0f}% and the lower numerical limit for a C is {1:.0f}%\".format(x1,x2))"
   ]
  },
  {
   "cell_type": "markdown",
   "metadata": {
    "colab_type": "text",
    "id": "-qq7k9NLcqUX"
   },
   "source": [
    "### Question 7: Suppose ACT Composite scores are normally distributed with a mean of 21.2 and a standard deviation of 5.4.  A university plans to admit students whose scores are in the top 45%.  What is the minimum score required for admission?  Round your answer to the nearest tenth, if necessary."
   ]
  },
  {
   "cell_type": "code",
   "execution_count": 0,
   "metadata": {
    "colab": {
     "base_uri": "https://localhost:8080/",
     "height": 34
    },
    "colab_type": "code",
    "id": "_SspEhiMcvQG",
    "outputId": "7e65c7b0-02a0-48ad-cea8-ae908f42d6e2"
   },
   "outputs": [
    {
     "name": "stdout",
     "output_type": "stream",
     "text": [
      "The minimum score on the ACT required for admission is: 21.9\n"
     ]
    }
   ],
   "source": [
    "m = 21.2 #mean\n",
    "std_dev = 5.4 #std devation\n",
    "top = 0.45 #top 45%\n",
    "\n",
    "#calculation of z-score\n",
    "z = stat.norm.ppf(1-top)\n",
    "\n",
    "#since we have the z-score, in this case we are solving for x\n",
    "#to do that we can do the following: \n",
    "x = z * std_dev + m\n",
    "\n",
    "#printing solution\n",
    "print(\"The minimum score on the ACT required for admission is: {0:.1f}\".format(x))"
   ]
  },
  {
   "cell_type": "markdown",
   "metadata": {
    "colab_type": "text",
    "id": "OJVz1i3QeELc"
   },
   "source": [
    "### Question 8: Consider the probability that less than 11 out of 151 students will not graduate on time.  Assume the probability that a given student will not graduate on time is 9%.  Approximate the probability using the normal distribution. (Round your answer to 4 decimal places.)"
   ]
  },
  {
   "cell_type": "code",
   "execution_count": 0,
   "metadata": {
    "colab": {
     "base_uri": "https://localhost:8080/",
     "height": 34
    },
    "colab_type": "code",
    "id": "bloSNtkFeHn-",
    "outputId": "edd789d4-f45f-486e-9c32-70d77bc8c827"
   },
   "outputs": [
    {
     "name": "stdout",
     "output_type": "stream",
     "text": [
      "The probability that less than 11 out of 151 students will not graduate on time is: 0.1920 or 19.20%\n"
     ]
    }
   ],
   "source": [
    "from scipy.stats import binom\n",
    "\n",
    "students = 10\n",
    "total = 151\n",
    "p = 0.09\n",
    "\n",
    "prob = stat.binom.cdf(students, total, p)\n",
    "\n",
    "print(\"The probability that less than 11 out of 151 students will not graduate on time is: {0:.4f} or {1:.2%}\".format(prob, prob))"
   ]
  },
  {
   "cell_type": "markdown",
   "metadata": {
    "colab_type": "text",
    "id": "GmyjdD7mluEP"
   },
   "source": [
    "### Question 9: The mean lifetime of a tire is 48 months with a standard deviation of 7.  If 147 tires are sampled, what is the probability that the mean of the sample would be greater than 48.83 months? (Round your answer to 4 decimal places)"
   ]
  },
  {
   "cell_type": "code",
   "execution_count": 0,
   "metadata": {
    "colab": {
     "base_uri": "https://localhost:8080/",
     "height": 34
    },
    "colab_type": "code",
    "id": "qTE3g9DelyXC",
    "outputId": "d8e4032b-312a-4b73-d964-3b1da370936d"
   },
   "outputs": [
    {
     "name": "stdout",
     "output_type": "stream",
     "text": [
      "The probability that the mean of the sample would be greater than 48.83 months is 0.0753 or 7.53%\n"
     ]
    }
   ],
   "source": [
    "m = 48 #mean\n",
    "std_dev = 7\n",
    "n = 147\n",
    "x = 48.83\n",
    " \n",
    "#calculate a z-score\n",
    "z = (x - m) / (std_dev/np.sqrt(n))\n",
    "\n",
    "#Because we are trying to calculate the probability that the mean of the sample would be greater than 48.83 months\n",
    "# we need to subtract from 1\n",
    "prob = 1- stat.norm.cdf(z)\n",
    "print(\"The probability that the mean of the sample would be greater than 48.83 months is {0:.4f} or {1:.2%}\".format(prob, prob))"
   ]
  },
  {
   "cell_type": "markdown",
   "metadata": {
    "colab_type": "text",
    "id": "UIdE5AwmSMUx"
   },
   "source": [
    "### Question 10: The quality control manager at a computer manufacturing company believes that the mean life of a computer is 91 months, with a standard deviation of 10.  If he is correct, what is the probability that the mean of a sample of 68 computers would be greater than 93.54 months? (Round your answer to 4 decimal places)"
   ]
  },
  {
   "cell_type": "code",
   "execution_count": 0,
   "metadata": {
    "colab": {
     "base_uri": "https://localhost:8080/",
     "height": 34
    },
    "colab_type": "code",
    "id": "2wgXKagcSQpr",
    "outputId": "1c05e577-d19f-4ef0-ede3-9d7030388a97"
   },
   "outputs": [
    {
     "name": "stdout",
     "output_type": "stream",
     "text": [
      "The probability that the mean of the sample would be greater than 93.54 months is 0.0181 or 1.81%\n"
     ]
    }
   ],
   "source": [
    "m = 91 #mean\n",
    "std_dev = 10\n",
    "n = 68\n",
    "x = 93.54\n",
    " \n",
    "#calculate a z-score\n",
    "z = (x - m) / (std_dev/np.sqrt(n))\n",
    "\n",
    "#Because we are trying to calculate the probability that the mean of the sample would be greater than 48.83 months\n",
    "# we need to subtract from 1\n",
    "prob = 1- stat.norm.cdf(z)\n",
    "print(\"The probability that the mean of the sample would be greater than 93.54 months is {0:.4f} or {1:.2%}\".format(prob, prob))"
   ]
  },
  {
   "cell_type": "markdown",
   "metadata": {
    "colab_type": "text",
    "id": "lMHIiC7lTl6I"
   },
   "source": [
    "### Question 11: A director of reservations believes that 7% of the ticketed passengers are no-shows.  If the director is right, what is the probability that the proportion of no-shows in a sample of 540 ticketed passengers would differ from the population proportion by less than 3%? (Round your answer to 4 decimal places)"
   ]
  },
  {
   "cell_type": "code",
   "execution_count": 0,
   "metadata": {
    "colab": {
     "base_uri": "https://localhost:8080/",
     "height": 34
    },
    "colab_type": "code",
    "id": "SOIdW956Tr76",
    "outputId": "9d3352a1-11f2-472b-f349-d2b64cfcc289"
   },
   "outputs": [
    {
     "name": "stdout",
     "output_type": "stream",
     "text": [
      "The probability that the proportion of no-shows in sample of 540 passengers would differ from the population proportion by less than 3% is 0.9937\n"
     ]
    }
   ],
   "source": [
    "p = 0.07\n",
    "n = 540\n",
    "differ = 0.03  #is this 2 or 3??\n",
    "\n",
    "\n",
    "std_dev = np.sqrt((p*(1-p)/n))\n",
    "\n",
    "#we need to extress the difference in terms of std deviations by calculating the z-value\n",
    "z = differ/std_dev\n",
    "\n",
    "##once we have the above z value we need to get the probabilities from both the positive and negative z-value\n",
    "prob1 = stat.norm.cdf(z)\n",
    "prob2 = stat.norm.cdf(-z)\n",
    "\n",
    "#to get the probability we need to subtract the probability of the positive from the negative to get the \n",
    "#probability between both of them\n",
    "prob = prob1 - prob2\n",
    "print(\"The probability that the proportion of no-shows in sample of 540 passengers would differ from the population proportion by less than 3% is {0:.4f}\".format(prob))"
   ]
  },
  {
   "cell_type": "markdown",
   "metadata": {
    "colab_type": "text",
    "id": "_p4gMtsMeLFs"
   },
   "source": [
    "### Question 12: A bottle maker believes that 23% of his bottles are defective.  If the bottle maker is accurate, what is the probability that the proportion of defective bottles in a sample of 602 bottles would differ from the population proportion by greater than 4%? (Round your answer to 4 decimal places)"
   ]
  },
  {
   "cell_type": "code",
   "execution_count": 0,
   "metadata": {
    "colab": {
     "base_uri": "https://localhost:8080/",
     "height": 34
    },
    "colab_type": "code",
    "id": "3JYLDxL5ePcn",
    "outputId": "eae758d8-6310-49e6-c65b-97ad32708a19"
   },
   "outputs": [
    {
     "name": "stdout",
     "output_type": "stream",
     "text": [
      "The probability that the proportion of defective bottles in a sample of 602 bottles would differ by greater than 4% is 0.0197\n"
     ]
    }
   ],
   "source": [
    "p = 0.23\n",
    "n = 602\n",
    "differ = 0.04  \n",
    "\n",
    "\n",
    "std_dev = np.sqrt((p*(1-p))/n)\n",
    "\n",
    "#we need to extress the difference in terms of std deviations by calculating the z-value\n",
    "z = differ/std_dev\n",
    "\n",
    "##once we have the above z value we need to get the probabilities from both the positive and negative z-value\n",
    "prob1 = 1- stat.norm.cdf(z)\n",
    "prob2 = stat.norm.cdf(-z)\n",
    "\n",
    "#to get the probabilities we need to add the probabilities of the positive and negative value to get the \n",
    "#area under the right and left tails\n",
    "\n",
    "prob = prob1 + prob2\n",
    "\n",
    "print(\"The probability that the proportion of defective bottles in a sample of 602 bottles would differ by greater than 4% is {0:.4f}\".format(prob))"
   ]
  },
  {
   "cell_type": "markdown",
   "metadata": {
    "colab_type": "text",
    "id": "urmHhWgorwLV"
   },
   "source": [
    "### Question 13: A research company desires to know the mean consumption of beef per week among males over age 48.  Suppose a sample of size 208 is drawn with x_bar = 3.9.  Assume standard deviation = 0.8 .  Construct the 80% confidence interval for the mean number of lb. of beef per week among males over 48. (Round your answers to 1 decimal place) "
   ]
  },
  {
   "cell_type": "code",
   "execution_count": 0,
   "metadata": {
    "colab": {
     "base_uri": "https://localhost:8080/",
     "height": 34
    },
    "colab_type": "code",
    "id": "vjNlZXWZr3YQ",
    "outputId": "07947206-531f-4752-eac2-dc23ecfa5ecd"
   },
   "outputs": [
    {
     "name": "stdout",
     "output_type": "stream",
     "text": [
      "The lower bound is 3.8 and the upper bound is 4.0.\n"
     ]
    }
   ],
   "source": [
    "n = 208 #sample size\n",
    "x_bar = 3.9 #sample average\n",
    "std_dev = 0.8\n",
    "\n",
    "value = stat.norm.ppf(.90) #with a 80% confidence interval we actually look at .9 because we have .10 in each tail. .10 + .10 = .20 \n",
    "\n",
    "#we use the below to calculate the interval\n",
    "interval = value * (std_dev/np.sqrt(n))\n",
    "\n",
    "#once the interval is calculated we +/- the interval from x_bar to get our lower and upper bounds\n",
    "lower = x_bar - interval\n",
    "upper = x_bar + interval \n",
    "\n",
    "print(\"The lower bound is {0:.1f} and the upper bound is {1:.1f}.\".format(lower, upper))\n"
   ]
  },
  {
   "cell_type": "markdown",
   "metadata": {
    "colab_type": "text",
    "id": "NIQEomi5qirs"
   },
   "source": [
    "### Question 14: An economist wants to estimate the mean per capita income (in thousands of dollars) in a major city in California.  Suppose a sample of size 7,472 is drawn with x_bar = 16.6.  Assume std_dev = 11 .  Construct the 98% confidence interval for the mean per capita income. (Round your answers to 1 decimal place) "
   ]
  },
  {
   "cell_type": "code",
   "execution_count": 0,
   "metadata": {
    "colab": {
     "base_uri": "https://localhost:8080/",
     "height": 51
    },
    "colab_type": "code",
    "id": "zeYaH-AqqmwH",
    "outputId": "a37b6ccb-bd96-493d-ccbf-4044c3d251a9"
   },
   "outputs": [
    {
     "name": "stdout",
     "output_type": "stream",
     "text": [
      "2.3263478740408408\n",
      "The lower bound is 16.3 and the upper bound is 16.9.\n"
     ]
    }
   ],
   "source": [
    "n = 7472 #sample size\n",
    "x_bar = 16.6 #sample average\n",
    "std_dev = 11\n",
    "\n",
    "value = stat.norm.ppf(.99) #with a 98% confidence interval we actually look at .99 because we have .01 in each tail. .01 + .01 = .02 \n",
    "#print(value)\n",
    "#we use the below to calculate the interval\n",
    "interval = value * (std_dev/np.sqrt(n))\n",
    "\n",
    "#once the interval is calculated we +/- the interval from x_bar to get our lower and upper bounds\n",
    "lower = x_bar - interval\n",
    "upper = x_bar + interval \n",
    "\n",
    "print(\"The lower bound is {0:.1f} and the upper bound is {1:.1f}.\".format(lower, upper))"
   ]
  },
  {
   "cell_type": "markdown",
   "metadata": {
    "colab_type": "text",
    "id": "ecIXE3Cqs7zW"
   },
   "source": [
    "###Question 15: Find the value of t such that 0.05 of the area under the curve is to the left of t.  Assume the degrees of freedom equals 26.\n",
    "\n",
    "###### Step 1: Choose the Picture which best decribes the problem: \n",
    "###### Answer 1: Upper Right\n",
    "\n",
    "###### Step 2: Write your answer below:"
   ]
  },
  {
   "cell_type": "code",
   "execution_count": 0,
   "metadata": {
    "colab": {
     "base_uri": "https://localhost:8080/",
     "height": 34
    },
    "colab_type": "code",
    "id": "cjvZ3CiGuRoR",
    "outputId": "8a43493d-c49e-4931-ef37-497c9492c4c7"
   },
   "outputs": [
    {
     "name": "stdout",
     "output_type": "stream",
     "text": [
      "The t value is -1.71 where 0.05 of the area under the curve is to the left of t and DoF = 26.\n"
     ]
    }
   ],
   "source": [
    "from scipy.stats import t #importing the student's t function\n",
    "t_value = t.ppf(0.05,26)\n",
    "print(\"The t value is {0:.2f} where 0.05 of the area under the curve is to the left of t and DoF = 26.\".format(t_value))"
   ]
  },
  {
   "cell_type": "markdown",
   "metadata": {
    "colab_type": "text",
    "id": "pEIxJ4jwwQMS"
   },
   "source": [
    "###Question 16: The following measurements ( in picocuries per liter ) were recorded by a set of helium gas detectors installed in a laboratory facility:  383.6, 347.1, 371.9, 347.6, 325.8, 337\n",
    "####Using these measurements, construct a 90% confidence interval for the mean level of helium gas present in the facility.  Assume the population is normally distributed.  "
   ]
  },
  {
   "cell_type": "markdown",
   "metadata": {
    "colab_type": "text",
    "id": "Zw-KB8Unw0qG"
   },
   "source": [
    "##### Step 1. Calculate the sample mean for the given sample data. (Round answer to 2 decimal places) "
   ]
  },
  {
   "cell_type": "code",
   "execution_count": 0,
   "metadata": {
    "colab": {
     "base_uri": "https://localhost:8080/",
     "height": 34
    },
    "colab_type": "code",
    "id": "-t3jhv5wwvTW",
    "outputId": "1a07f017-32e3-4fe6-e65d-276ad4792972"
   },
   "outputs": [
    {
     "name": "stdout",
     "output_type": "stream",
     "text": [
      "The mean of the data is: 352.17\n"
     ]
    }
   ],
   "source": [
    "gas = np.array([383.6, 347.1, 371.9, 347.6, 325.8, 337])\n",
    "mean_gas = gas.mean()\n",
    "print(\"The mean of the data is: {0:.2f}\".format(mean_gas))"
   ]
  },
  {
   "cell_type": "markdown",
   "metadata": {
    "colab_type": "text",
    "id": "0Op37n0SxVMB"
   },
   "source": [
    "##### Step 2. Calculate the sample standard deviation for the given sample data. (Round answer to 2 decimal places) "
   ]
  },
  {
   "cell_type": "code",
   "execution_count": 0,
   "metadata": {
    "colab": {
     "base_uri": "https://localhost:8080/",
     "height": 34
    },
    "colab_type": "code",
    "id": "AXPKfW0ExKIk",
    "outputId": "1dd397c1-491b-4d84-dd6f-08d50a27672d"
   },
   "outputs": [
    {
     "name": "stdout",
     "output_type": "stream",
     "text": [
      "The standard deviation of the data is: 21.68\n"
     ]
    }
   ],
   "source": [
    "std_dev_gas = np.std(gas, ddof = 1)\n",
    "print(\"The standard deviation of the data is: {0:.2f}\".format(std_dev_gas))"
   ]
  },
  {
   "cell_type": "markdown",
   "metadata": {
    "colab_type": "text",
    "id": "mJOmMh7oyXs2"
   },
   "source": [
    "##### Step 3. Find the critical value that should be used in constructing the confidence interval. (Round answer to 3 decimal places) "
   ]
  },
  {
   "cell_type": "code",
   "execution_count": 0,
   "metadata": {
    "colab": {
     "base_uri": "https://localhost:8080/",
     "height": 34
    },
    "colab_type": "code",
    "id": "hsSYU84OydcZ",
    "outputId": "1d24e579-8a56-4765-eb29-83511850eb09"
   },
   "outputs": [
    {
     "name": "stdout",
     "output_type": "stream",
     "text": [
      "Thre critical values are: +/-2.015\n"
     ]
    }
   ],
   "source": [
    "dof = len(gas) - 1 # calculate DoF by N-1\n",
    "t_val = t.ppf(0.05,dof)\n",
    "print(\"Thre critical values are: +/{0:.3f}\".format(t_val))"
   ]
  },
  {
   "cell_type": "markdown",
   "metadata": {
    "colab_type": "text",
    "id": "dfm2GjIezvh3"
   },
   "source": [
    "##### Step 4. Construct the 90% confidence interval. (Round answer to 2 decimal places)"
   ]
  },
  {
   "cell_type": "code",
   "execution_count": 0,
   "metadata": {
    "colab": {
     "base_uri": "https://localhost:8080/",
     "height": 34
    },
    "colab_type": "code",
    "id": "50zYnDuPz0So",
    "outputId": "c5028dc4-b434-4a87-b6f6-3e676b889637"
   },
   "outputs": [
    {
     "name": "stdout",
     "output_type": "stream",
     "text": [
      "The lower bound is 334.34 and the upper bound is 370.00.\n"
     ]
    }
   ],
   "source": [
    "lower = mean_gas - abs(t_val) * std_dev_gas / np.sqrt(len(gas)) \n",
    "upper = mean_gas + abs(t_val) * std_dev_gas / np.sqrt(len(gas)) \n",
    "\n",
    "print(\"The lower bound is {0:.2f} and the upper bound is {1:.2f}.\".format(lower, upper))"
   ]
  },
  {
   "cell_type": "markdown",
   "metadata": {
    "colab_type": "text",
    "id": "eLNcdpP12Avu"
   },
   "source": [
    "### Question 17: A random sample of 16 fields of spring wheat has a mean yield of 46.4 bushels per acre and standard deviation of 2.45 bushels per acre.  Determine the 80% confidence interval for the true mean yield.  Assume the population is normally distributed.  "
   ]
  },
  {
   "cell_type": "markdown",
   "metadata": {
    "colab_type": "text",
    "id": "qhdo-DaC2klJ"
   },
   "source": [
    "#### Step 1. Find the critical value that should be used in constructing the confidence interval. (Round answer to 3 decimal places) "
   ]
  },
  {
   "cell_type": "code",
   "execution_count": 0,
   "metadata": {
    "colab": {
     "base_uri": "https://localhost:8080/",
     "height": 34
    },
    "colab_type": "code",
    "id": "o5DFlSSV2Icc",
    "outputId": "a9ca3090-26a9-4e00-fa40-8a7c2cc8be87"
   },
   "outputs": [
    {
     "name": "stdout",
     "output_type": "stream",
     "text": [
      "Thre critical values are: +/-1.341\n"
     ]
    }
   ],
   "source": [
    "n = 16 \n",
    "dof = n - 1\n",
    "x_bar = 46.4\n",
    "std = 2.45\n",
    "alpha = .20/2\n",
    "\n",
    "t_val = t.ppf(alpha,dof)\n",
    "print(\"Thre critical values are: +/{0:.3f}\".format(t_val))"
   ]
  },
  {
   "cell_type": "markdown",
   "metadata": {
    "colab_type": "text",
    "id": "mRRponN-2t7m"
   },
   "source": [
    "Step 2. Construct the 80% confidence interval. (Round answer to 1 decimal place)"
   ]
  },
  {
   "cell_type": "code",
   "execution_count": 0,
   "metadata": {
    "colab": {
     "base_uri": "https://localhost:8080/",
     "height": 34
    },
    "colab_type": "code",
    "id": "YVVhrAtH2wRi",
    "outputId": "6d063148-1a19-4ded-a4aa-c42e5302e0d9"
   },
   "outputs": [
    {
     "name": "stdout",
     "output_type": "stream",
     "text": [
      "The lower bound is 45.6 and the upper bound is 47.2.\n"
     ]
    }
   ],
   "source": [
    "lower = x_bar - abs(t_val) * std / np.sqrt(n)\n",
    "upper = x_bar + abs(t_val) * std / np.sqrt(n) \n",
    "\n",
    "print(\"The lower bound is {0:.1f} and the upper bound is {1:.1f}.\".format(lower, upper))"
   ]
  },
  {
   "cell_type": "markdown",
   "metadata": {
    "colab_type": "text",
    "id": "7vhQTeE-3AyH"
   },
   "source": [
    "### Question 18: A toy manufacturer wants to know how many new toys children buy each year.  She thinks the mean is 8 toys per year.  Assume a previous study found the standard deviation to be 1.9.  How large of a sample would be required in order to estimate the mean number of toys bought per child at the 99% confidence level with an error of at most 0.13 toys? (Round your answer up to the next integer)"
   ]
  },
  {
   "cell_type": "code",
   "execution_count": 0,
   "metadata": {
    "colab": {
     "base_uri": "https://localhost:8080/",
     "height": 34
    },
    "colab_type": "code",
    "id": "pesimbPr3Go-",
    "outputId": "195ec94c-6613-4f98-87f3-e795432d5150"
   },
   "outputs": [
    {
     "name": "stdout",
     "output_type": "stream",
     "text": [
      "The number of samples needed would be: 1417\n"
     ]
    }
   ],
   "source": [
    "m = 8 #mean\n",
    "std = 1.9 #std dev\n",
    "me = 0.13 #margin of error\n",
    "\n",
    "z = stat.norm.ppf(.995) #getting z-value - one-tailed\n",
    "#print(z)\n",
    "n = ((z * std)/me)**2 #calculating how many samples needed\n",
    "\n",
    "print(\"The number of samples needed would be: {0:.0f}\".format(n))"
   ]
  },
  {
   "cell_type": "markdown",
   "metadata": {
    "colab_type": "text",
    "id": "wDurR4mf51Qj"
   },
   "source": [
    "### Question 19: A research scientist wants to know how many times per hour a certain strand of bacteria reproduces. He believes that the mean is 12.6.  Assume the variance is known to be 3.61. How large of a sample would be required in order to estimate the mean number of reproductions per hour at the 95% confidence level with an error of at most 0.19 reproductions? (Round your answer up to the next integer)"
   ]
  },
  {
   "cell_type": "code",
   "execution_count": 0,
   "metadata": {
    "colab": {
     "base_uri": "https://localhost:8080/",
     "height": 34
    },
    "colab_type": "code",
    "id": "5s-jW-_q59lZ",
    "outputId": "794542a1-d937-49e4-d6bb-63b45b4629bb"
   },
   "outputs": [
    {
     "name": "stdout",
     "output_type": "stream",
     "text": [
      "The number of samples needed would be: 384\n"
     ]
    }
   ],
   "source": [
    "m = 12.6 #mean\n",
    "var = 3.61 #variance\n",
    "std = np.sqrt(var) #std dev\n",
    "me = 0.19 #margin of error\n",
    "\n",
    "z = stat.norm.ppf(.975) #getting z-value - one-tailed\n",
    "#print(z)\n",
    "n = ((z * std)/me)**2 #calculating how many samples needed\n",
    "\n",
    "print(\"The number of samples needed would be: {0:.0f}\".format(n))"
   ]
  },
  {
   "cell_type": "markdown",
   "metadata": {
    "colab_type": "text",
    "id": "XYQhFXKv8u-V"
   },
   "source": [
    "### Question 20: The state education commission wants to estimate the fraction of tenth grade students that have reading skills at or below the eighth grade level.\n",
    "\n",
    "##### Step 1. Suppose a sample of 2,089 tenth graders is drawn. Of the students sampled, 1,734 read above the eighth grade level.  Using the data, estimate the proportion of tenth graders reading at or below the eighth grade level. (Write your answer as a fraction or a decimal number rounded to 3 decimal places) \n"
   ]
  },
  {
   "cell_type": "code",
   "execution_count": 0,
   "metadata": {
    "colab": {
     "base_uri": "https://localhost:8080/",
     "height": 34
    },
    "colab_type": "code",
    "id": "ohsYtBaM8z3d",
    "outputId": "17916938-30ef-4b4f-fc99-855465fb950f"
   },
   "outputs": [
    {
     "name": "stdout",
     "output_type": "stream",
     "text": [
      "The proportion of tenth graders reading at or below the eighth grade level is equal to 0.170\n"
     ]
    }
   ],
   "source": [
    "n = 2089\n",
    "p_hat = 1734/2089\n",
    "\n",
    "below_lev = 1 - p_hat\n",
    "\n",
    "print(\"The proportion of tenth graders reading at or below the eighth grade level is equal to {0:.3f}\".format(below_lev))"
   ]
  },
  {
   "cell_type": "markdown",
   "metadata": {
    "colab_type": "text",
    "id": "QZz_v95q-ZPH"
   },
   "source": [
    "##### Step 2. Construct the 98% confidence interval for the population proportion of tenth graders reading at or below the eighth grade level. (Round your answers to 3 decimal places)"
   ]
  },
  {
   "cell_type": "code",
   "execution_count": 0,
   "metadata": {
    "colab": {
     "base_uri": "https://localhost:8080/",
     "height": 34
    },
    "colab_type": "code",
    "id": "KQL3QnM3-_DS",
    "outputId": "13e218c1-8198-4a73-cbe0-3b18b760099f"
   },
   "outputs": [
    {
     "name": "stdout",
     "output_type": "stream",
     "text": [
      "The lower bound is 0.151 and the upper bound is 0.189.\n"
     ]
    }
   ],
   "source": [
    "z = stat.norm.ppf(.99) #getting z-valu\n",
    "\n",
    "interval = z * np.sqrt(below_lev*(1-below_lev)/n)\n",
    "#print(interval)\n",
    "s\n",
    "lower = below_lev - interval \n",
    "upper = below_lev + interval\n",
    "\n",
    "print(\"The lower bound is {0:.3f} and the upper bound is {1:.3f}.\".format(lower, upper))"
   ]
  },
  {
   "cell_type": "markdown",
   "metadata": {
    "colab_type": "text",
    "id": "4XXWv_shCAGN"
   },
   "source": [
    "### Question 21: An environmentalist wants to find out the fraction of oil tankers that have spills each month.\n",
    "\n",
    "##### Step 1. Suppose a sample of 474 tankers is drawn.  Of these ships, 156 had spills.  Using the data, estimate the proportion of oil tankers that had spills. (Write your answer as a fraction or a decimal number rounded to 3 decimal places) "
   ]
  },
  {
   "cell_type": "code",
   "execution_count": 0,
   "metadata": {
    "colab": {
     "base_uri": "https://localhost:8080/",
     "height": 34
    },
    "colab_type": "code",
    "id": "zdLmMdRoCHZ9",
    "outputId": "698514e6-bfd7-4eb3-fea7-9ff54f1fd76d"
   },
   "outputs": [
    {
     "name": "stdout",
     "output_type": "stream",
     "text": [
      "The proportion of oil tankers that had spills was: 0.329\n"
     ]
    }
   ],
   "source": [
    "n = 474\n",
    "p_hat = 156/474\n",
    "\n",
    "print(\"The proportion of oil tankers that had spills was: {0:.3f}\".format(p_hat))"
   ]
  },
  {
   "cell_type": "markdown",
   "metadata": {
    "colab_type": "text",
    "id": "dRDJv273Cl74"
   },
   "source": [
    "##### Step 2.  Using the data, construct the 95% confidence interval for the population proportion of oil tankers that have spills each month. (Round your answers to 3 decimal places)"
   ]
  },
  {
   "cell_type": "code",
   "execution_count": 0,
   "metadata": {
    "colab": {
     "base_uri": "https://localhost:8080/",
     "height": 34
    },
    "colab_type": "code",
    "id": "5Ou9cg4LCce7",
    "outputId": "d5cc27ee-af48-4e40-9de6-2a66926b5236"
   },
   "outputs": [
    {
     "name": "stdout",
     "output_type": "stream",
     "text": [
      "The lower bound is 0.287 and the upper bound is 0.371.\n"
     ]
    }
   ],
   "source": [
    "z = stat.norm.ppf(.975) #getting z-value\n",
    "#print(z)\n",
    "\n",
    "interval = z * np.sqrt(p_hat*(1-p_hat)/n)\n",
    "#print(interval)\n",
    "\n",
    "lower = p_hat - interval \n",
    "upper = p_hat + interval\n",
    "\n",
    "print(\"The lower bound is {0:.3f} and the upper bound is {1:.3f}.\".format(lower, upper))"
   ]
  }
 ],
 "metadata": {
  "colab": {
   "collapsed_sections": [],
   "name": "Week_3_Assignment_Math_with_Python_Bridge .ipynb",
   "provenance": []
  },
  "kernelspec": {
   "display_name": "Python 3",
   "language": "python",
   "name": "python3"
  },
  "language_info": {
   "codemirror_mode": {
    "name": "ipython",
    "version": 3
   },
   "file_extension": ".py",
   "mimetype": "text/x-python",
   "name": "python",
   "nbconvert_exporter": "python",
   "pygments_lexer": "ipython3",
   "version": "3.7.4"
  }
 },
 "nbformat": 4,
 "nbformat_minor": 1
}
